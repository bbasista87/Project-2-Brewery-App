{
 "cells": [
  {
   "cell_type": "code",
   "execution_count": 2,
   "metadata": {},
   "outputs": [],
   "source": [
    "from sqlalchemy import Column, Float, Integer, String\n",
    "from sqlalchemy.ext.declarative import declarative_base\n",
    "\n",
    "Base = declarative_base()"
   ]
  },
  {
   "cell_type": "code",
   "execution_count": 3,
   "metadata": {},
   "outputs": [],
   "source": [
    "class Breweries(Base):\n",
    "    __tablename__ = 'breweries'\n",
    "    id = Column(Integer, primary_key=True)\n",
    "    brewery = Column(String)\n",
    "    address = Column(String)\n",
    "    city = Column(String)\n",
    "    state = Column(String)\n",
    "    lat = Column(Float)\n",
    "    lon = Column(Float)\n",
    "    link = Column(String)"
   ]
  },
  {
   "cell_type": "code",
   "execution_count": 4,
   "metadata": {},
   "outputs": [],
   "source": [
    "from sqlalchemy import create_engine\n",
    "from sqlalchemy.orm import Session\n",
    "\n",
    "engine = create_engine('sqlite:///breweries.sqlite')\n",
    "Base.metadata.create_all(engine)\n",
    "session = Session(bind=engine)"
   ]
  },
  {
   "cell_type": "code",
   "execution_count": 5,
   "metadata": {},
   "outputs": [],
   "source": [
    "import csv"
   ]
  },
  {
   "cell_type": "code",
   "execution_count": 6,
   "metadata": {},
   "outputs": [],
   "source": [
    "with open('breweries_final.csv', encoding='utf8') as f:\n",
    "    reader = csv.reader(f)\n",
    "    header_row = next(reader)\n",
    "\n",
    "    for brewery, address, city, state, latitude, longitude, website in reader:\n",
    "        session.add(Breweries(\n",
    "            brewery=brewery,\n",
    "            address=address,\n",
    "            city=city,\n",
    "            state=state,\n",
    "            lat=latitude,\n",
    "            lon=longitude,\n",
    "            link=website\n",
    "        ))\n",
    "    session.commit()"
   ]
  }
 ],
 "metadata": {
  "kernelspec": {
   "display_name": "Python 3",
   "language": "python",
   "name": "python3"
  },
  "language_info": {
   "codemirror_mode": {
    "name": "ipython",
    "version": 3
   },
   "file_extension": ".py",
   "mimetype": "text/x-python",
   "name": "python",
   "nbconvert_exporter": "python",
   "pygments_lexer": "ipython3",
   "version": "3.6.5"
  }
 },
 "nbformat": 4,
 "nbformat_minor": 2
}
